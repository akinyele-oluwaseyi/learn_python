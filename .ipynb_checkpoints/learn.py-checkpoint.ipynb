{
 "cells": [
  {
   "cell_type": "code",
   "execution_count": 1,
   "id": "edf7ee6d",
   "metadata": {},
   "outputs": [],
   "source": [
    "age = 30"
   ]
  },
  {
   "cell_type": "code",
   "execution_count": 2,
   "id": "7c7d987f",
   "metadata": {},
   "outputs": [
    {
     "name": "stdout",
     "output_type": "stream",
     "text": [
      "30\n"
     ]
    }
   ],
   "source": [
    "print(age)"
   ]
  },
  {
   "cell_type": "code",
   "execution_count": 4,
   "id": "13f6ee31",
   "metadata": {},
   "outputs": [],
   "source": [
    "math_operation = 1 + 3 * 4 / 2 - 2"
   ]
  },
  {
   "cell_type": "code",
   "execution_count": 5,
   "id": "478b5e65",
   "metadata": {},
   "outputs": [
    {
     "name": "stdout",
     "output_type": "stream",
     "text": [
      "5.0\n"
     ]
    }
   ],
   "source": [
    "print(math_operation)\n",
    "\n"
   ]
  },
  {
   "cell_type": "code",
   "execution_count": 6,
   "id": "1256cd02",
   "metadata": {},
   "outputs": [
    {
     "name": "stdout",
     "output_type": "stream",
     "text": [
      "2\n"
     ]
    }
   ],
   "source": [
    "interger_divison = 13 // 5\n",
    "print(interger_divison)"
   ]
  },
  {
   "cell_type": "code",
   "execution_count": 7,
   "id": "063872e2",
   "metadata": {},
   "outputs": [
    {
     "name": "stdout",
     "output_type": "stream",
     "text": [
      "3\n"
     ]
    }
   ],
   "source": [
    "remainder = 13 % 5\n",
    "print(remainder)"
   ]
  },
  {
   "cell_type": "code",
   "execution_count": 16,
   "id": "56096e4a",
   "metadata": {},
   "outputs": [
    {
     "name": "stdout",
     "output_type": "stream",
     "text": [
      "1\n"
     ]
    }
   ],
   "source": [
    "x = 35\n",
    "remainder_1 = x % 2\n",
    "print(remainder_1)\n",
    "\n",
    "\n"
   ]
  },
  {
   "cell_type": "code",
   "execution_count": 12,
   "id": "abea3b97",
   "metadata": {},
   "outputs": [
    {
     "name": "stdout",
     "output_type": "stream",
     "text": [
      "13.5\n"
     ]
    }
   ],
   "source": [
    "a = 17.5\n",
    "b = 5\n",
    "x = a + b - 9\n",
    "print(x)"
   ]
  },
  {
   "cell_type": "code",
   "execution_count": 13,
   "id": "7c604431",
   "metadata": {},
   "outputs": [
    {
     "name": "stdout",
     "output_type": "stream",
     "text": [
      "6\n"
     ]
    }
   ],
   "source": [
    "friends = 9\n",
    "near = 3\n",
    "friends_away = friends - near\n",
    "print(friends_away)\n"
   ]
  },
  {
   "cell_type": "code",
   "execution_count": 14,
   "id": "ebffc8c4",
   "metadata": {},
   "outputs": [
    {
     "name": "stdout",
     "output_type": "stream",
     "text": [
      "3.5\n"
     ]
    }
   ],
   "source": [
    "my_variable = 7\n",
    "div = my_variable / 2\n",
    "print(div)\n"
   ]
  },
  {
   "cell_type": "code",
   "execution_count": 15,
   "id": "978355a8",
   "metadata": {},
   "outputs": [
    {
     "name": "stdout",
     "output_type": "stream",
     "text": [
      "1\n"
     ]
    }
   ],
   "source": [
    "row_number = 235\n",
    "result = row_number % 2 #its % a remainder sign\n",
    "print(result)\n"
   ]
  },
  {
   "cell_type": "code",
   "execution_count": 20,
   "id": "fd09e087",
   "metadata": {},
   "outputs": [
    {
     "name": "stdout",
     "output_type": "stream",
     "text": [
      "Hello, it's me.\n",
      "he said \"you are amazing!\"yesterday.\n"
     ]
    }
   ],
   "source": [
    "#string_with_quotes #string''\n",
    "\n",
    "string_with_quotes = \"Hello, it's me.\"\n",
    "\n",
    "another_with_quotes = 'he said \"you are amazing!\"yesterday.'\n",
    "print(string_with_quotes)\n",
    "\n",
    "print(another_with_quotes)\n",
    "\n"
   ]
  },
  {
   "cell_type": "code",
   "execution_count": 23,
   "id": "713a705d",
   "metadata": {},
   "outputs": [
    {
     "name": "stdout",
     "output_type": "stream",
     "text": [
      "hello, world.\n",
      "\n",
      "my name is seyi.Welcome to my program. \n",
      "\n"
     ]
    }
   ],
   "source": [
    "#multiline string \n",
    "multiline = \"\"\"hello, world.\n",
    "\n",
    "my name is seyi.Welcome to my program. \n",
    "\"\"\"\n",
    "print(multiline)\n"
   ]
  },
  {
   "cell_type": "code",
   "execution_count": 26,
   "id": "aeec0974",
   "metadata": {},
   "outputs": [
    {
     "name": "stdout",
     "output_type": "stream",
     "text": [
      "you are 35\n"
     ]
    }
   ],
   "source": [
    "age = 35\n",
    "age_as_str = str(age)#you can also use \"\".\n",
    "print(\"you are \" + age_as_str)\n",
    "\n",
    "#or \"you  are + '35'"
   ]
  },
  {
   "cell_type": "code",
   "execution_count": 27,
   "id": "58db29e4",
   "metadata": {},
   "outputs": [
    {
     "name": "stdout",
     "output_type": "stream",
     "text": [
      "you are 34\n"
     ]
    }
   ],
   "source": [
    "#string formatting\n",
    "age = 34\n",
    "print(f\"you are {age}\")"
   ]
  },
  {
   "cell_type": "code",
   "execution_count": 28,
   "id": "23bc978a",
   "metadata": {},
   "outputs": [
    {
     "name": "stdout",
     "output_type": "stream",
     "text": [
      "How are you, Jose?\n"
     ]
    }
   ],
   "source": [
    "name = \"Jose\"\n",
    "greeting = f\"How are you, {name}?\"\n",
    "print(greeting)"
   ]
  },
  {
   "cell_type": "code",
   "execution_count": 30,
   "id": "54687efa",
   "metadata": {},
   "outputs": [
    {
     "name": "stdout",
     "output_type": "stream",
     "text": [
      "How are you, jose?\n",
      "How are you, Bob?\n"
     ]
    }
   ],
   "source": [
    "#PYTHON has another way of changing variables formatting \n",
    "name = \"jose\"\n",
    "final_greeting = \"How are you, {}?\"\n",
    "jose_greeting = final_greeting.format(name)\n",
    "print(jose_greeting)\n",
    "\n",
    "bob_greeting = final_greeting.format(\"Bob\") #To change the conten\n",
    "print(bob_greeting)\n",
    "\n"
   ]
  },
  {
   "cell_type": "code",
   "execution_count": 35,
   "id": "543b8c9f",
   "metadata": {},
   "outputs": [
    {
     "name": "stdout",
     "output_type": "stream",
     "text": [
      "Name: Rolf Smith\n",
      "street: 123 No Name Road\n",
      "Postcard: PY02 1CP\n",
      "Country: United Kingdom\n"
     ]
    }
   ],
   "source": [
    "name = \"Rolf Smith\"\n",
    "street = \"123 No Name Road\"\n",
    "postcode = \"PY02 1CP\"\n",
    "\n",
    "address = f\"\"\"Name: {name}\n",
    "street: {street}\n",
    "Postcard: {postcode}\n",
    "Country: United Kingdom\"\"\"\n",
    "\n",
    "print(address)"
   ]
  },
  {
   "cell_type": "code",
   "execution_count": 36,
   "id": "e10e87e1",
   "metadata": {},
   "outputs": [
    {
     "name": "stdout",
     "output_type": "stream",
     "text": [
      "bob is 30 years old.\n"
     ]
    }
   ],
   "source": [
    "description = \"{} is {} years old.\"\n",
    "print(description.format(\"bob\",30)) \n",
    "#also put it {age} as (\"Bob\", age=30)\n"
   ]
  },
  {
   "cell_type": "code",
   "execution_count": 1,
   "id": "5c234317",
   "metadata": {},
   "outputs": [
    {
     "name": "stdout",
     "output_type": "stream",
     "text": [
      "4\n"
     ]
    }
   ],
   "source": [
    "x = 2 + 2\n",
    "print(x)"
   ]
  },
  {
   "cell_type": "code",
   "execution_count": null,
   "id": "89b1f6e7",
   "metadata": {},
   "outputs": [],
   "source": []
  }
 ],
 "metadata": {
  "kernelspec": {
   "display_name": "Python 3 (ipykernel)",
   "language": "python",
   "name": "python3"
  },
  "language_info": {
   "codemirror_mode": {
    "name": "ipython",
    "version": 3
   },
   "file_extension": ".py",
   "mimetype": "text/x-python",
   "name": "python",
   "nbconvert_exporter": "python",
   "pygments_lexer": "ipython3",
   "version": "3.10.5"
  }
 },
 "nbformat": 4,
 "nbformat_minor": 5
}
