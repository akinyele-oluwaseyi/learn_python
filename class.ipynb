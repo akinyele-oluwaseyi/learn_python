{
 "cells": [
  {
   "cell_type": "code",
   "execution_count": 5,
   "id": "a3d8e484",
   "metadata": {},
   "outputs": [
    {
     "name": "stdout",
     "output_type": "stream",
     "text": [
      "what is your name: seyi\n",
      "hi.. seyi .. it's a beautiful day\n"
     ]
    }
   ],
   "source": [
    "name= input ('what is your name: ')\n",
    "print('hi.. ' +name , '.. it\\'s a beautiful day')\n",
    "\n"
   ]
  },
  {
   "cell_type": "code",
   "execution_count": 40,
   "id": "7c72ad89",
   "metadata": {},
   "outputs": [
    {
     "ename": "SyntaxError",
     "evalue": "unterminated string literal (detected at line 5) (3800268723.py, line 5)",
     "output_type": "error",
     "traceback": [
      "\u001b[0;36m  Input \u001b[0;32mIn [40]\u001b[0;36m\u001b[0m\n\u001b[0;31m    print('hi my '\"+name , and my +color\"')\u001b[0m\n\u001b[0m                                         ^\u001b[0m\n\u001b[0;31mSyntaxError\u001b[0m\u001b[0;31m:\u001b[0m unterminated string literal (detected at line 5)\n"
     ]
    }
   ],
   "source": [
    "name = input ('what is your name: ')\n",
    "\n",
    "color = input ('what is your favorite color: ')\n",
    "\n",
    "print('hi my '\"+name , and my +color\"')\n",
    "\n",
    "\n"
   ]
  },
  {
   "cell_type": "code",
   "execution_count": 1,
   "id": "f20cc1be",
   "metadata": {},
   "outputs": [
    {
     "name": "stdout",
     "output_type": "stream",
     "text": [
      "what is your date: 1996\n",
      "30\n"
     ]
    }
   ],
   "source": [
    "date = input('what is your date: ')\n",
    "age = 2026 - int(date)\n",
    "\n",
    "print(age)"
   ]
  },
  {
   "cell_type": "code",
   "execution_count": 48,
   "id": "da0aa664",
   "metadata": {},
   "outputs": [
    {
     "name": "stdout",
     "output_type": "stream",
     "text": [
      "what your weight: 200\n",
      "what your length: 50\n",
      "444.44444444444446\n",
      "5000.0\n"
     ]
    }
   ],
   "source": [
    "weight = input('what your weight: ')\n",
    "length = input('what your length: ')\n",
    "weight_lbs = float(weight)/ 0.45\n",
    "length_cm = float(length)* 100\n",
    "print(weight_lbs)\n",
    "print(length_cm)"
   ]
  },
  {
   "cell_type": "code",
   "execution_count": 55,
   "id": "a0bc90b4",
   "metadata": {},
   "outputs": [
    {
     "name": "stdout",
     "output_type": "stream",
     "text": [
      "what has to be broken before you can use it ?: hi\n",
      "incorrect\n"
     ]
    }
   ],
   "source": [
    "question_1 = input('what has to be broken before you can use it ?: ')\n",
    "if question_1 == 'egg':\n",
    "    print('correct')\n",
    "else :\n",
    "    print('incorrect')"
   ]
  },
  {
   "cell_type": "code",
   "execution_count": 59,
   "id": "543d8c43",
   "metadata": {},
   "outputs": [
    {
     "name": "stdout",
     "output_type": "stream",
     "text": [
      "im tall when im young, im short when im old,what am i ?: MAN\n",
      "incorrect\n"
     ]
    }
   ],
   "source": [
    "question_2 = input('im tall when im young, im short when im old,what am i ?: ')\n",
    "if question_2 == 'man':\n",
    "    print('correct')\n",
    "else :\n",
    "        print('incorrect')"
   ]
  },
  {
   "cell_type": "code",
   "execution_count": 2,
   "id": "a8658036",
   "metadata": {},
   "outputs": [
    {
     "name": "stdout",
     "output_type": "stream",
     "text": [
      "112\n"
     ]
    }
   ],
   "source": [
    "x = 109 + 3\n",
    "print(x)"
   ]
  },
  {
   "cell_type": "code",
   "execution_count": 1,
   "id": "3d913eb5",
   "metadata": {},
   "outputs": [
    {
     "name": "stdout",
     "output_type": "stream",
     "text": [
      "108\n"
     ]
    }
   ],
   "source": [
    "x = 102 + 6\n",
    "print(x)"
   ]
  },
  {
   "cell_type": "code",
   "execution_count": 3,
   "id": "f637f326",
   "metadata": {},
   "outputs": [
    {
     "name": "stdout",
     "output_type": "stream",
     "text": [
      "103\n"
     ]
    }
   ],
   "source": [
    "x = 100 + 3\n",
    "print(x)"
   ]
  },
  {
   "cell_type": "code",
   "execution_count": 4,
   "id": "c9c3a089",
   "metadata": {},
   "outputs": [
    {
     "name": "stdout",
     "output_type": "stream",
     "text": [
      "2\n"
     ]
    }
   ],
   "source": [
    "g = 100 // 50\n",
    "print(g)"
   ]
  },
  {
   "cell_type": "code",
   "execution_count": 5,
   "id": "ceea108f",
   "metadata": {},
   "outputs": [
    {
     "name": "stdout",
     "output_type": "stream",
     "text": [
      "1009\n"
     ]
    }
   ],
   "source": [
    "h =1000 + 9\n",
    "print(h)"
   ]
  },
  {
   "cell_type": "code",
   "execution_count": 6,
   "id": "15bae3fc",
   "metadata": {},
   "outputs": [
    {
     "name": "stdout",
     "output_type": "stream",
     "text": [
      "1.1111111111111112\n"
     ]
    }
   ],
   "source": [
    "j = 10 / 9\n",
    "print(j)"
   ]
  },
  {
   "cell_type": "code",
   "execution_count": 8,
   "id": "4f2b72fe",
   "metadata": {},
   "outputs": [
    {
     "name": "stdout",
     "output_type": "stream",
     "text": [
      "80.0\n"
     ]
    }
   ],
   "source": [
    "f = 80 / 1\n",
    "print(f)"
   ]
  },
  {
   "cell_type": "code",
   "execution_count": 7,
   "id": "11b33dd8",
   "metadata": {},
   "outputs": [
    {
     "name": "stdout",
     "output_type": "stream",
     "text": [
      "12\n"
     ]
    }
   ],
   "source": [
    "x = 2 * 6\n",
    "print(x)"
   ]
  },
  {
   "cell_type": "code",
   "execution_count": null,
   "id": "7a1e3ad3",
   "metadata": {},
   "outputs": [],
   "source": []
  }
 ],
 "metadata": {
  "kernelspec": {
   "display_name": "Python 3 (ipykernel)",
   "language": "python",
   "name": "python3"
  },
  "language_info": {
   "codemirror_mode": {
    "name": "ipython",
    "version": 3
   },
   "file_extension": ".py",
   "mimetype": "text/x-python",
   "name": "python",
   "nbconvert_exporter": "python",
   "pygments_lexer": "ipython3",
   "version": "3.10.5"
  }
 },
 "nbformat": 4,
 "nbformat_minor": 5
}
