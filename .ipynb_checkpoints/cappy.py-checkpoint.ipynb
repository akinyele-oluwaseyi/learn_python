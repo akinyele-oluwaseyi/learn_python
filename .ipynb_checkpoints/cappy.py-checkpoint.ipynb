{
 "cells": [
  {
   "cell_type": "markdown",
   "id": "a083560f",
   "metadata": {},
   "source": [
    "##PYTHON VARIABLES\n"
   ]
  },
  {
   "cell_type": "code",
   "execution_count": 1,
   "id": "837b2837",
   "metadata": {},
   "outputs": [
    {
     "name": "stdout",
     "output_type": "stream",
     "text": [
      "100\n"
     ]
    }
   ],
   "source": [
    "age = 100 \n",
    "\n",
    "print(age)"
   ]
  },
  {
   "cell_type": "markdown",
   "id": "1366dd35",
   "metadata": {},
   "source": [
    "##PYTHON DATA TYPES"
   ]
  },
  {
   "cell_type": "code",
   "execution_count": 2,
   "id": "07b599ae",
   "metadata": {},
   "outputs": [],
   "source": [
    "# interger (int)\n",
    "\n",
    "x = 9 \n",
    "y = 9"
   ]
  },
  {
   "cell_type": "code",
   "execution_count": 3,
   "id": "f045fd63",
   "metadata": {},
   "outputs": [],
   "source": [
    "# float (float)\n",
    "\n",
    "height = 5.8"
   ]
  },
  {
   "cell_type": "code",
   "execution_count": 4,
   "id": "5a3e8097",
   "metadata": {},
   "outputs": [],
   "source": [
    "# string (str)\n",
    " \n",
    "name = \"seyi\"\n",
    "another = \"hi\"\n",
    "y = \"5\" #not an interger\n"
   ]
  },
  {
   "cell_type": "code",
   "execution_count": 5,
   "id": "3bdcfea8",
   "metadata": {},
   "outputs": [],
   "source": [
    "# boolean (bool)\n",
    "\n",
    "is_student = True\n",
    "is_married = False\n"
   ]
  },
  {
   "cell_type": "markdown",
   "id": "e19d388f",
   "metadata": {},
   "source": [
    "###PRINT\n"
   ]
  },
  {
   "cell_type": "code",
   "execution_count": 5,
   "id": "ca2a66b5",
   "metadata": {},
   "outputs": [
    {
     "name": "stdout",
     "output_type": "stream",
     "text": [
      "900\n"
     ]
    }
   ],
   "source": [
    "x = 900\n",
    "\n",
    "print(x)\n"
   ]
  },
  {
   "cell_type": "code",
   "execution_count": 3,
   "id": "2acdfbb0",
   "metadata": {},
   "outputs": [
    {
     "name": "stdout",
     "output_type": "stream",
     "text": [
      "9.7\n"
     ]
    }
   ],
   "source": [
    "weight = 9.7\n",
    "print(weight)"
   ]
  },
  {
   "cell_type": "code",
   "execution_count": 10,
   "id": "188dee25",
   "metadata": {},
   "outputs": [
    {
     "name": "stdout",
     "output_type": "stream",
     "text": [
      "how are you\n"
     ]
    }
   ],
   "source": [
    "print ('how are you')"
   ]
  },
  {
   "cell_type": "code",
   "execution_count": 11,
   "id": "1a5976a6",
   "metadata": {},
   "outputs": [
    {
     "name": "stdout",
     "output_type": "stream",
     "text": [
      "True\n"
     ]
    }
   ],
   "source": [
    "print(True)"
   ]
  },
  {
   "cell_type": "markdown",
   "id": "f8eaca5c",
   "metadata": {},
   "source": [
    " DATA TYPE CHECKS\n",
    " "
   ]
  },
  {
   "cell_type": "code",
   "execution_count": 4,
   "id": "76a229ce",
   "metadata": {},
   "outputs": [
    {
     "name": "stdout",
     "output_type": "stream",
     "text": [
      "<class 'int'>\n"
     ]
    }
   ],
   "source": [
    "y = 1000\n",
    "\n",
    "print(type(y))"
   ]
  },
  {
   "cell_type": "code",
   "execution_count": 16,
   "id": "891d24b4",
   "metadata": {},
   "outputs": [
    {
     "data": {
      "text/plain": [
       "\"<class 'str'>\""
      ]
     },
     "execution_count": 16,
     "metadata": {},
     "output_type": "execute_result"
    }
   ],
   "source": [
    "age = \"20\"\n",
    "\n",
    "print(type(age))"
   ]
  },
  {
   "cell_type": "code",
   "execution_count": 17,
   "id": "fd043911",
   "metadata": {},
   "outputs": [
    {
     "data": {
      "text/plain": [
       "\"<class 'bool'>\""
      ]
     },
     "execution_count": 17,
     "metadata": {},
     "output_type": "execute_result"
    }
   ],
   "source": [
    "is_married = True\n",
    "\n",
    "print(type(is_married))"
   ]
  },
  {
   "cell_type": "code",
   "execution_count": 18,
   "id": "88d535fb",
   "metadata": {},
   "outputs": [
    {
     "data": {
      "text/plain": [
       "\"<class 'float'>\""
      ]
     },
     "execution_count": 18,
     "metadata": {},
     "output_type": "execute_result"
    }
   ],
   "source": [
    "price = 3.5\n",
    "\n",
    "print(type(price))"
   ]
  },
  {
   "cell_type": "markdown",
   "id": "6a0107e8",
   "metadata": {},
   "source": [
    " DATA TYPE CASTING\n",
    " "
   ]
  },
  {
   "cell_type": "code",
   "execution_count": 19,
   "id": "c0d81f52",
   "metadata": {},
   "outputs": [],
   "source": [
    "x = 5"
   ]
  },
  {
   "cell_type": "code",
   "execution_count": 20,
   "id": "fa5062a8",
   "metadata": {},
   "outputs": [
    {
     "data": {
      "text/plain": [
       "'5.0'"
      ]
     },
     "execution_count": 20,
     "metadata": {},
     "output_type": "execute_result"
    }
   ],
   "source": [
    "# convert from interger to float\n",
    "print(float(x))"
   ]
  },
  {
   "cell_type": "code",
   "execution_count": 21,
   "id": "4bce7751",
   "metadata": {},
   "outputs": [],
   "source": [
    "y = 3.3"
   ]
  },
  {
   "cell_type": "code",
   "execution_count": 22,
   "id": "379c138b",
   "metadata": {},
   "outputs": [
    {
     "data": {
      "text/plain": [
       "'3'"
      ]
     },
     "execution_count": 22,
     "metadata": {},
     "output_type": "execute_result"
    }
   ],
   "source": [
    "# convert from float to interger\n",
    "print(int(y))"
   ]
  },
  {
   "cell_type": "code",
   "execution_count": 23,
   "id": "091d88b1",
   "metadata": {},
   "outputs": [
    {
     "data": {
      "text/plain": [
       "'3'"
      ]
     },
     "execution_count": 23,
     "metadata": {},
     "output_type": "execute_result"
    }
   ],
   "source": [
    "new = 3.7\n",
    "print(int(new))"
   ]
  },
  {
   "cell_type": "code",
   "execution_count": 24,
   "id": "14ba4496",
   "metadata": {},
   "outputs": [
    {
     "data": {
      "text/plain": [
       "'20'"
      ]
     },
     "execution_count": 24,
     "metadata": {},
     "output_type": "execute_result"
    }
   ],
   "source": [
    "age = \"20\"\n",
    "print(int(age))"
   ]
  },
  {
   "cell_type": "code",
   "execution_count": 25,
   "id": "600a9efc",
   "metadata": {},
   "outputs": [
    {
     "data": {
      "text/plain": [
       "\"<class 'str'>\""
      ]
     },
     "execution_count": 25,
     "metadata": {},
     "output_type": "execute_result"
    }
   ],
   "source": [
    "print(type(age))"
   ]
  },
  {
   "cell_type": "code",
   "execution_count": 26,
   "id": "ae97ceda",
   "metadata": {},
   "outputs": [
    {
     "data": {
      "text/plain": [
       "'20'"
      ]
     },
     "execution_count": 26,
     "metadata": {},
     "output_type": "execute_result"
    }
   ],
   "source": [
    "cleaned_age = int(age)\n",
    "print(cleaned_age)"
   ]
  },
  {
   "cell_type": "code",
   "execution_count": 27,
   "id": "b906b046",
   "metadata": {},
   "outputs": [
    {
     "data": {
      "text/plain": [
       "\"<class 'int'>\""
      ]
     },
     "execution_count": 27,
     "metadata": {},
     "output_type": "execute_result"
    }
   ],
   "source": [
    "print(type(cleaned_age))"
   ]
  },
  {
   "cell_type": "code",
   "execution_count": 2,
   "id": "96c43b6e",
   "metadata": {},
   "outputs": [
    {
     "name": "stdout",
     "output_type": "stream",
     "text": [
      "3.5\n"
     ]
    }
   ],
   "source": [
    "#assignment 1\n",
    "#please convert \"3.5\" to an interger\n",
    "\n",
    "bad_weight = \"3.5\"\n",
    "\n",
    "print(str(bad_weight))"
   ]
  },
  {
   "cell_type": "markdown",
   "id": "d9a736f7",
   "metadata": {},
   "source": [
    "  STRING METHODS \n",
    "  "
   ]
  },
  {
   "cell_type": "code",
   "execution_count": 31,
   "id": "7f52969f",
   "metadata": {},
   "outputs": [],
   "source": [
    "name = \"seyi\"\n"
   ]
  },
  {
   "cell_type": "code",
   "execution_count": 32,
   "id": "0b242082",
   "metadata": {},
   "outputs": [
    {
     "data": {
      "text/plain": [
       "'SEYI'"
      ]
     },
     "execution_count": 32,
     "metadata": {},
     "output_type": "execute_result"
    }
   ],
   "source": [
    "#.upper\n",
    "print(name.upper())"
   ]
  },
  {
   "cell_type": "code",
   "execution_count": 33,
   "id": "b879d362",
   "metadata": {},
   "outputs": [
    {
     "data": {
      "text/plain": [
       "'nigeria'"
      ]
     },
     "execution_count": 33,
     "metadata": {},
     "output_type": "execute_result"
    }
   ],
   "source": [
    "country = \"Nigeria\"\n",
    "print(country.lower())"
   ]
  },
  {
   "cell_type": "code",
   "execution_count": 5,
   "id": "38a0e8bc",
   "metadata": {},
   "outputs": [
    {
     "name": "stdout",
     "output_type": "stream",
     "text": [
      "m\n"
     ]
    }
   ],
   "source": [
    "#Find out if m starts the name called mayowa exercise\n",
    "\n",
    "name = \"mayowa\"\n",
    "hey = name[0]\n",
    "\n",
    "print(hey)"
   ]
  },
  {
   "cell_type": "code",
   "execution_count": 1,
   "id": "3ebe3fd0",
   "metadata": {},
   "outputs": [
    {
     "name": "stdout",
     "output_type": "stream",
     "text": [
      "e\n"
     ]
    }
   ],
   "source": [
    "name = \"seyi\"\n",
    "hi = name[1]\n",
    "\n",
    "print(hi)"
   ]
  },
  {
   "cell_type": "code",
   "execution_count": 7,
   "id": "8ef33d9e",
   "metadata": {},
   "outputs": [
    {
     "name": "stdout",
     "output_type": "stream",
     "text": [
      "u\n"
     ]
    }
   ],
   "source": [
    "name = \"seun\"\n",
    "hey = name[2]\n",
    "print(hey)"
   ]
  },
  {
   "cell_type": "code",
   "execution_count": null,
   "id": "10d510c5",
   "metadata": {},
   "outputs": [],
   "source": []
  }
 ],
 "metadata": {
  "kernelspec": {
   "display_name": "Python 3 (ipykernel)",
   "language": "python",
   "name": "python3"
  },
  "language_info": {
   "codemirror_mode": {
    "name": "ipython",
    "version": 3
   },
   "file_extension": ".py",
   "mimetype": "text/x-python",
   "name": "python",
   "nbconvert_exporter": "python",
   "pygments_lexer": "ipython3",
   "version": "3.10.5"
  }
 },
 "nbformat": 4,
 "nbformat_minor": 5
}
