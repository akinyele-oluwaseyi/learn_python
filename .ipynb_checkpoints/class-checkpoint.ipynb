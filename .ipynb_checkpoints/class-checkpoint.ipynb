{
 "cells": [
  {
   "cell_type": "code",
   "execution_count": 5,
   "id": "a3d8e484",
   "metadata": {},
   "outputs": [
    {
     "name": "stdout",
     "output_type": "stream",
     "text": [
      "what is your name: seyi\n",
      "hi.. seyi .. it's a beautiful day\n"
     ]
    }
   ],
   "source": [
    "name= input ('what is your name: ')\n",
    "print('hi.. ' +name , '.. it\\'s a beautiful day')\n",
    "\n"
   ]
  },
  {
   "cell_type": "code",
   "execution_count": 40,
   "id": "7c72ad89",
   "metadata": {},
   "outputs": [
    {
     "ename": "SyntaxError",
     "evalue": "unterminated string literal (detected at line 5) (3800268723.py, line 5)",
     "output_type": "error",
     "traceback": [
      "\u001b[0;36m  Input \u001b[0;32mIn [40]\u001b[0;36m\u001b[0m\n\u001b[0;31m    print('hi my '\"+name , and my +color\"')\u001b[0m\n\u001b[0m                                         ^\u001b[0m\n\u001b[0;31mSyntaxError\u001b[0m\u001b[0;31m:\u001b[0m unterminated string literal (detected at line 5)\n"
     ]
    }
   ],
   "source": [
    "name = input ('what is your name: ')\n",
    "\n",
    "color = input ('what is your favorite color: ')\n",
    "\n",
    "print('hi my '\"+name , and my +color\"')\n",
    "\n",
    "\n"
   ]
  },
  {
   "cell_type": "code",
   "execution_count": 1,
   "id": "f20cc1be",
   "metadata": {},
   "outputs": [
    {
     "name": "stdout",
     "output_type": "stream",
     "text": [
      "what is your date: 1996\n",
      "30\n"
     ]
    }
   ],
   "source": [
    "date = input('what is your date: ')\n",
    "age = 2026 - int(date)\n",
    "\n",
    "print(age)"
   ]
  },
  {
   "cell_type": "code",
   "execution_count": 48,
   "id": "da0aa664",
   "metadata": {},
   "outputs": [
    {
     "name": "stdout",
     "output_type": "stream",
     "text": [
      "what your weight: 200\n",
      "what your length: 50\n",
      "444.44444444444446\n",
      "5000.0\n"
     ]
    }
   ],
   "source": [
    "weight = input('what your weight: ')\n",
    "length = input('what your length: ')\n",
    "weight_lbs = float(weight)/ 0.45\n",
    "length_cm = float(length)* 100\n",
    "print(weight_lbs)\n",
    "print(length_cm)"
   ]
  },
  {
   "cell_type": "code",
   "execution_count": 55,
   "id": "a0bc90b4",
   "metadata": {},
   "outputs": [
    {
     "name": "stdout",
     "output_type": "stream",
     "text": [
      "what has to be broken before you can use it ?: hi\n",
      "incorrect\n"
     ]
    }
   ],
   "source": [
    "question_1 = input('what has to be broken before you can use it ?: ')\n",
    "if question_1 == 'egg':\n",
    "    print('correct')\n",
    "else :\n",
    "    print('incorrect')"
   ]
  },
  {
   "cell_type": "code",
   "execution_count": 59,
   "id": "543d8c43",
   "metadata": {},
   "outputs": [
    {
     "name": "stdout",
     "output_type": "stream",
     "text": [
      "im tall when im young, im short when im old,what am i ?: MAN\n",
      "incorrect\n"
     ]
    }
   ],
   "source": [
    "question_2 = input('im tall when im young, im short when im old,what am i ?: ')\n",
    "if question_2 == 'man':\n",
    "    print('correct')\n",
    "else :\n",
    "        print('incorrect')"
   ]
  },
  {
   "cell_type": "code",
   "execution_count": 3,
   "id": "a8658036",
   "metadata": {},
   "outputs": [
    {
     "name": "stdout",
     "output_type": "stream",
     "text": [
      "498\n"
     ]
    }
   ],
   "source": [
    "x = 490 + 8\n",
    "print(x)"
   ]
  },
  {
   "cell_type": "code",
   "execution_count": 2,
   "id": "3d913eb5",
   "metadata": {},
   "outputs": [
    {
     "name": "stdout",
     "output_type": "stream",
     "text": [
      "196\n"
     ]
    }
   ],
   "source": [
    "x = 190 + 6\n",
    "print(x)"
   ]
  },
  {
   "cell_type": "code",
   "execution_count": 1,
   "id": "f637f326",
   "metadata": {},
   "outputs": [
    {
     "name": "stdout",
     "output_type": "stream",
     "text": [
      "113\n"
     ]
    }
   ],
   "source": [
    "x = 110 + 3\n",
    "print(x)"
   ]
  },
  {
   "cell_type": "code",
   "execution_count": 4,
   "id": "c9c3a089",
   "metadata": {},
   "outputs": [
    {
     "name": "stdout",
     "output_type": "stream",
     "text": [
      "2\n"
     ]
    }
   ],
   "source": [
    "g = 121// 50\n",
    "print(g)"
   ]
  },
  {
   "cell_type": "code",
   "execution_count": 4,
   "id": "ceea108f",
   "metadata": {},
   "outputs": [
    {
     "name": "stdout",
     "output_type": "stream",
     "text": [
      "170\n"
     ]
    }
   ],
   "source": [
    "h =161 + 9\n",
    "print(h)"
   ]
  },
  {
   "cell_type": "code",
   "execution_count": 5,
   "id": "15bae3fc",
   "metadata": {},
   "outputs": [
    {
     "name": "stdout",
     "output_type": "stream",
     "text": [
      "91.22222222222223\n"
     ]
    }
   ],
   "source": [
    "x = 821 / 9\n",
    "print(x)"
   ]
  },
  {
   "cell_type": "code",
   "execution_count": 1,
   "id": "4f2b72fe",
   "metadata": {},
   "outputs": [
    {
     "name": "stdout",
     "output_type": "stream",
     "text": [
      "80.0\n"
     ]
    }
   ],
   "source": [
    "f = 80 / 1\n",
    "print(f)"
   ]
  },
  {
   "cell_type": "code",
   "execution_count": 4,
   "id": "11b33dd8",
   "metadata": {},
   "outputs": [
    {
     "name": "stdout",
     "output_type": "stream",
     "text": [
      "540\n"
     ]
    }
   ],
   "source": [
    "x = 90 * 6\n",
    "print(x)"
   ]
  },
  {
   "cell_type": "code",
   "execution_count": 5,
   "id": "7a1e3ad3",
   "metadata": {},
   "outputs": [
    {
     "name": "stdout",
     "output_type": "stream",
     "text": [
      "Enter the first number (X): 7\n",
      "Enter the second number (Y): 9\n",
      "Enter the third number (Z): 9\n"
     ]
    },
    {
     "ename": "NameError",
     "evalue": "name 'find_minimum' is not defined",
     "output_type": "error",
     "traceback": [
      "\u001b[0;31m---------------------------------------------------------------------------\u001b[0m",
      "\u001b[0;31mNameError\u001b[0m                                 Traceback (most recent call last)",
      "Input \u001b[0;32mIn [5]\u001b[0m, in \u001b[0;36m<cell line: 15>\u001b[0;34m()\u001b[0m\n\u001b[1;32m     14\u001b[0m     \u001b[38;5;66;03m# Execute the main function\u001b[39;00m\n\u001b[1;32m     15\u001b[0m \u001b[38;5;28;01mif\u001b[39;00m \u001b[38;5;18m__name__\u001b[39m \u001b[38;5;241m==\u001b[39m \u001b[38;5;124m\"\u001b[39m\u001b[38;5;124m__main__\u001b[39m\u001b[38;5;124m\"\u001b[39m:\n\u001b[0;32m---> 16\u001b[0m     \u001b[43mmain\u001b[49m\u001b[43m(\u001b[49m\u001b[43m)\u001b[49m\n\u001b[1;32m     17\u001b[0m \u001b[38;5;66;03m# Function to find the minimum of three numbers\u001b[39;00m\n\u001b[1;32m     18\u001b[0m \u001b[38;5;28;01mdef\u001b[39;00m \u001b[38;5;21mfind_minimum\u001b[39m(x, y, z):\n",
      "Input \u001b[0;32mIn [5]\u001b[0m, in \u001b[0;36mmain\u001b[0;34m()\u001b[0m\n\u001b[1;32m      6\u001b[0m z \u001b[38;5;241m=\u001b[39m \u001b[38;5;28mfloat\u001b[39m(\u001b[38;5;28minput\u001b[39m(\u001b[38;5;124m\"\u001b[39m\u001b[38;5;124mEnter the third number (Z): \u001b[39m\u001b[38;5;124m\"\u001b[39m))\n\u001b[1;32m      8\u001b[0m \u001b[38;5;66;03m# Find the minimum number\u001b[39;00m\n\u001b[0;32m----> 9\u001b[0m min_num \u001b[38;5;241m=\u001b[39m \u001b[43mfind_minimum\u001b[49m(x, y, z)\n\u001b[1;32m     11\u001b[0m \u001b[38;5;66;03m# Display the minimum number on a circle\u001b[39;00m\n\u001b[1;32m     12\u001b[0m display_on_circle(min_num)\n",
      "\u001b[0;31mNameError\u001b[0m: name 'find_minimum' is not defined"
     ]
    }
   ],
   "source": [
    "\n",
    "# Main function\n",
    "def main():\n",
    "    # Prompt the user to enter three numbers\n",
    "    x = float(input(\"Enter the first number (X): \"))\n",
    "    y = float(input(\"Enter the second number (Y): \"))\n",
    "    z = float(input(\"Enter the third number (Z): \"))\n",
    "    \n",
    "    # Find the minimum number\n",
    "    min_num = find_minimum(x, y, z)\n",
    "    \n",
    "    # Display the minimum number on a circle\n",
    "    display_on_circle(min_num)\n",
    "    \n",
    "    # Execute the main function\n",
    "if __name__ == \"__main__\":\n",
    "    main()\n",
    "# Function to find the minimum of three numbers\n",
    "def find_minimum(x, y, z):\n",
    "    return min(x, y, z)\n",
    "\n"
   ]
  },
  {
   "cell_type": "code",
   "execution_count": null,
   "id": "48518710",
   "metadata": {},
   "outputs": [],
   "source": []
  }
 ],
 "metadata": {
  "kernelspec": {
   "display_name": "Python 3 (ipykernel)",
   "language": "python",
   "name": "python3"
  },
  "language_info": {
   "codemirror_mode": {
    "name": "ipython",
    "version": 3
   },
   "file_extension": ".py",
   "mimetype": "text/x-python",
   "name": "python",
   "nbconvert_exporter": "python",
   "pygments_lexer": "ipython3",
   "version": "3.10.5"
  }
 },
 "nbformat": 4,
 "nbformat_minor": 5
}
