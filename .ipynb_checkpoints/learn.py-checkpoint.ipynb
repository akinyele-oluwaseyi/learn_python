{
 "cells": [
  {
   "cell_type": "code",
   "execution_count": 3,
   "id": "edf7ee6d",
   "metadata": {},
   "outputs": [],
   "source": [
    "age = 40"
   ]
  },
  {
   "cell_type": "code",
   "execution_count": 4,
   "id": "7c7d987f",
   "metadata": {},
   "outputs": [
    {
     "name": "stdout",
     "output_type": "stream",
     "text": [
      "40\n"
     ]
    }
   ],
   "source": [
    "print(age)"
   ]
  },
  {
   "cell_type": "code",
   "execution_count": 2,
   "id": "13f6ee31",
   "metadata": {},
   "outputs": [],
   "source": [
    "math_operation = 1 + 3 * 4 / 2 - 2"
   ]
  },
  {
   "cell_type": "code",
   "execution_count": 5,
   "id": "478b5e65",
   "metadata": {},
   "outputs": [
    {
     "name": "stdout",
     "output_type": "stream",
     "text": [
      "5.0\n"
     ]
    }
   ],
   "source": [
    "print(math_operation)\n",
    "\n"
   ]
  },
  {
   "cell_type": "code",
   "execution_count": 6,
   "id": "1256cd02",
   "metadata": {},
   "outputs": [
    {
     "name": "stdout",
     "output_type": "stream",
     "text": [
      "2\n"
     ]
    }
   ],
   "source": [
    "interger_divison = 13 // 5\n",
    "print(interger_divison)"
   ]
  },
  {
   "cell_type": "code",
   "execution_count": 7,
   "id": "063872e2",
   "metadata": {},
   "outputs": [
    {
     "name": "stdout",
     "output_type": "stream",
     "text": [
      "3\n"
     ]
    }
   ],
   "source": [
    "remainder = 13 % 5\n",
    "print(remainder)"
   ]
  },
  {
   "cell_type": "code",
   "execution_count": 16,
   "id": "56096e4a",
   "metadata": {},
   "outputs": [
    {
     "name": "stdout",
     "output_type": "stream",
     "text": [
      "1\n"
     ]
    }
   ],
   "source": [
    "x = 35\n",
    "remainder_1 = x % 2\n",
    "print(remainder_1)\n",
    "\n",
    "\n"
   ]
  },
  {
   "cell_type": "code",
   "execution_count": 12,
   "id": "abea3b97",
   "metadata": {},
   "outputs": [
    {
     "name": "stdout",
     "output_type": "stream",
     "text": [
      "13.5\n"
     ]
    }
   ],
   "source": [
    "a = 17.5\n",
    "b = 5\n",
    "x = a + b - 9\n",
    "print(x)"
   ]
  },
  {
   "cell_type": "code",
   "execution_count": 13,
   "id": "7c604431",
   "metadata": {},
   "outputs": [
    {
     "name": "stdout",
     "output_type": "stream",
     "text": [
      "6\n"
     ]
    }
   ],
   "source": [
    "friends = 9\n",
    "near = 3\n",
    "friends_away = friends - near\n",
    "print(friends_away)\n"
   ]
  },
  {
   "cell_type": "code",
   "execution_count": 14,
   "id": "ebffc8c4",
   "metadata": {},
   "outputs": [
    {
     "name": "stdout",
     "output_type": "stream",
     "text": [
      "3.5\n"
     ]
    }
   ],
   "source": [
    "my_variable = 7\n",
    "div = my_variable / 2\n",
    "print(div)\n"
   ]
  },
  {
   "cell_type": "code",
   "execution_count": 15,
   "id": "978355a8",
   "metadata": {},
   "outputs": [
    {
     "name": "stdout",
     "output_type": "stream",
     "text": [
      "1\n"
     ]
    }
   ],
   "source": [
    "row_number = 235\n",
    "result = row_number % 2 #its % a remainder sign\n",
    "print(result)\n"
   ]
  },
  {
   "cell_type": "code",
   "execution_count": 20,
   "id": "fd09e087",
   "metadata": {},
   "outputs": [
    {
     "name": "stdout",
     "output_type": "stream",
     "text": [
      "Hello, it's me.\n",
      "he said \"you are amazing!\"yesterday.\n"
     ]
    }
   ],
   "source": [
    "#string_with_quotes #string''\n",
    "\n",
    "string_with_quotes = \"Hello, it's me.\"\n",
    "\n",
    "another_with_quotes = 'he said \"you are amazing!\"yesterday.'\n",
    "print(string_with_quotes)\n",
    "\n",
    "print(another_with_quotes)\n",
    "\n"
   ]
  },
  {
   "cell_type": "code",
   "execution_count": 23,
   "id": "713a705d",
   "metadata": {},
   "outputs": [
    {
     "name": "stdout",
     "output_type": "stream",
     "text": [
      "hello, world.\n",
      "\n",
      "my name is seyi.Welcome to my program. \n",
      "\n"
     ]
    }
   ],
   "source": [
    "#multiline string \n",
    "multiline = \"\"\"hello, world.\n",
    "\n",
    "my name is seyi.Welcome to my program. \n",
    "\"\"\"\n",
    "print(multiline)\n"
   ]
  },
  {
   "cell_type": "code",
   "execution_count": 26,
   "id": "aeec0974",
   "metadata": {},
   "outputs": [
    {
     "name": "stdout",
     "output_type": "stream",
     "text": [
      "you are 35\n"
     ]
    }
   ],
   "source": [
    "age = 35\n",
    "age_as_str = str(age)#you can also use \"\".\n",
    "print(\"you are \" + age_as_str)\n",
    "\n",
    "#or \"you  are + '35'"
   ]
  },
  {
   "cell_type": "code",
   "execution_count": 27,
   "id": "58db29e4",
   "metadata": {},
   "outputs": [
    {
     "name": "stdout",
     "output_type": "stream",
     "text": [
      "you are 34\n"
     ]
    }
   ],
   "source": [
    "#string formatting\n",
    "age = 34\n",
    "print(f\"you are {age}\")"
   ]
  },
  {
   "cell_type": "code",
   "execution_count": 28,
   "id": "23bc978a",
   "metadata": {},
   "outputs": [
    {
     "name": "stdout",
     "output_type": "stream",
     "text": [
      "How are you, Jose?\n"
     ]
    }
   ],
   "source": [
    "name = \"Jose\"\n",
    "greeting = f\"How are you, {name}?\"\n",
    "print(greeting)"
   ]
  },
  {
   "cell_type": "code",
   "execution_count": 30,
   "id": "54687efa",
   "metadata": {},
   "outputs": [
    {
     "name": "stdout",
     "output_type": "stream",
     "text": [
      "How are you, jose?\n",
      "How are you, Bob?\n"
     ]
    }
   ],
   "source": [
    "#PYTHON has another way of changing variables formatting \n",
    "name = \"jose\"\n",
    "final_greeting = \"How are you, {}?\"\n",
    "jose_greeting = final_greeting.format(name)\n",
    "print(jose_greeting)\n",
    "\n",
    "bob_greeting = final_greeting.format(\"Bob\") #To change the conten\n",
    "print(bob_greeting)\n",
    "\n"
   ]
  },
  {
   "cell_type": "code",
   "execution_count": 35,
   "id": "543b8c9f",
   "metadata": {},
   "outputs": [
    {
     "name": "stdout",
     "output_type": "stream",
     "text": [
      "Name: Rolf Smith\n",
      "street: 123 No Name Road\n",
      "Postcard: PY02 1CP\n",
      "Country: United Kingdom\n"
     ]
    }
   ],
   "source": [
    "name = \"Rolf Smith\"\n",
    "street = \"123 No Name Road\"\n",
    "postcode = \"PY02 1CP\"\n",
    "\n",
    "address = f\"\"\"Name: {name}\n",
    "street: {street}\n",
    "Postcard: {postcode}\n",
    "Country: United Kingdom\"\"\"\n",
    "\n",
    "print(address)"
   ]
  },
  {
   "cell_type": "code",
   "execution_count": 36,
   "id": "e10e87e1",
   "metadata": {},
   "outputs": [
    {
     "name": "stdout",
     "output_type": "stream",
     "text": [
      "bob is 30 years old.\n"
     ]
    }
   ],
   "source": [
    "description = \"{} is {} years old.\"\n",
    "print(description.format(\"bob\",30)) \n",
    "#also put it {age} as (\"Bob\", age=30)\n"
   ]
  },
  {
   "cell_type": "code",
   "execution_count": 5,
   "id": "5c234317",
   "metadata": {},
   "outputs": [
    {
     "name": "stdout",
     "output_type": "stream",
     "text": [
      "11\n"
     ]
    }
   ],
   "source": [
    "x = 2 + 9\n",
    "print(x)"
   ]
  },
  {
   "cell_type": "code",
   "execution_count": 2,
   "id": "89b1f6e7",
   "metadata": {},
   "outputs": [
    {
     "name": "stdout",
     "output_type": "stream",
     "text": [
      "Enter your age: 12\n",
      "you have lived for 144 months.\n"
     ]
    }
   ],
   "source": [
    "age = int(input(\"Enter your age: \"))\n",
    "months = age * 12\n",
    "print(f\"you have lived for {months} months.\")"
   ]
  },
  {
   "cell_type": "code",
   "execution_count": 3,
   "id": "bcde78cb",
   "metadata": {},
   "outputs": [
    {
     "name": "stdout",
     "output_type": "stream",
     "text": [
      "please enter a number: 3\n",
      "Your number doubled is 33.\n"
     ]
    }
   ],
   "source": [
    "user_input = input(\"please enter a number: \")\n",
    "double = user_input * 2\n",
    "print(f\"Your number doubled is {double}.\")"
   ]
  },
  {
   "cell_type": "code",
   "execution_count": 5,
   "id": "aefcf933",
   "metadata": {},
   "outputs": [
    {
     "name": "stdout",
     "output_type": "stream",
     "text": [
      "Enter a number: 5\n",
      "you got it right: True.\n"
     ]
    }
   ],
   "source": [
    "#boolean\n",
    "my_number = 5\n",
    "user_number = int(input(\"Enter a number: \"))\n",
    "\n",
    "matches = my_number == user_number\n",
    "print(f\"you got it right: {matches}.\")"
   ]
  },
  {
   "cell_type": "code",
   "execution_count": null,
   "id": "be7c0e65",
   "metadata": {},
   "outputs": [],
   "source": [
    "bool(0) #false\n",
    "bool(13) #true\n",
    "bool(\"\") #false, empty string\n",
    "bool('hello') #True\n",
    "bool([]) #false ,empty list\n",
    "bool([1,3,5])  #True"
   ]
  },
  {
   "cell_type": "code",
   "execution_count": 6,
   "id": "afe487bb",
   "metadata": {},
   "outputs": [
    {
     "name": "stdout",
     "output_type": "stream",
     "text": [
      "Enter your name: (Optional)\n",
      "Hello, there!\n"
     ]
    }
   ],
   "source": [
    "#and or\n",
    "default_greeting = \"there\"\n",
    "name = input(\"Enter your name: (Optional)\")\n",
    "\n",
    "user_name = name or default_greeting\n",
    "print(f\"Hello, {user_name}!\")"
   ]
  },
  {
   "cell_type": "code",
   "execution_count": 1,
   "id": "5d28f27a",
   "metadata": {},
   "outputs": [
    {
     "name": "stdout",
     "output_type": "stream",
     "text": [
      "Enter your age: 16\n",
      "True\n"
     ]
    }
   ],
   "source": [
    "age = int(input(\"Enter your age: \"))\n",
    "side_job = True\n",
    "print(age > 18 and age < 65 or side_job)"
   ]
  },
  {
   "cell_type": "code",
   "execution_count": 2,
   "id": "fbf47d23",
   "metadata": {},
   "outputs": [
    {
     "name": "stdout",
     "output_type": "stream",
     "text": [
      "['Rolf', 'BOB', 'Anne', 'Jen']\n"
     ]
    }
   ],
   "source": [
    "#LIST[]\n",
    "friends = ['Rolf',\"BOB\", \"Anne\"]\n",
    "friends.append(\"Jen\")\n",
    "print(friends)"
   ]
  },
  {
   "cell_type": "code",
   "execution_count": 9,
   "id": "d4963ceb",
   "metadata": {},
   "outputs": [
    {
     "name": "stdout",
     "output_type": "stream",
     "text": [
      "[['Rolf', 24], ['Bob', 30]]\n"
     ]
    }
   ],
   "source": [
    "friends = [[\"Rolf\", 24], [\"Bob\", 30], [\"anne\", 28]]\n",
    "friends.remove([\"anne\",28])\n",
    "print(friends)"
   ]
  },
  {
   "cell_type": "code",
   "execution_count": 11,
   "id": "fcb63f5b",
   "metadata": {},
   "outputs": [
    {
     "name": "stdout",
     "output_type": "stream",
     "text": [
      "('Rolf', 'BOB', 'Anne', 'Jen')\n"
     ]
    }
   ],
   "source": [
    "#TUPLES()\n",
    "friends = (\"Rolf\", \"BOB\", \"Anne\")\n",
    "friends = friends + (\"Jen\",)\n",
    "print(friends)"
   ]
  },
  {
   "cell_type": "code",
   "execution_count": 12,
   "id": "dd56fa95",
   "metadata": {},
   "outputs": [
    {
     "name": "stdout",
     "output_type": "stream",
     "text": [
      "{'Rolf', 'jen', 'Anne'}\n"
     ]
    }
   ],
   "source": [
    "#SET{}\n",
    "art_friends = {\"Rolf\", \"Anne\"}\n",
    "science_friends = {\"Jen\", \"Charlie\"}\n",
    "art_friends.add(\"jen\")\n",
    "print(art_friends)"
   ]
  },
  {
   "cell_type": "code",
   "execution_count": 14,
   "id": "87f6dbbb",
   "metadata": {},
   "outputs": [
    {
     "name": "stdout",
     "output_type": "stream",
     "text": [
      "{'Rolf', 'Jen', 'Anne'}\n",
      "{'Jen', 'Charlie'}\n",
      "{'Rolf', 'Anne', 'Charlie'}\n"
     ]
    }
   ],
   "source": [
    "art_friends = {\"Rolf\", \"Anne\", \"Jen\"}\n",
    "science_friends = {\"Jen\", \"Charlie\"}\n",
    "art_but_not_science = art_friends.difference(science_friends)\n",
    "science_but_not_art = science_friends.difference(art_friends)\n",
    "\n",
    "print(art_friends)\n",
    "print(science_friends)\n",
    "\n",
    "not_in_both = art_friends.symmetric_difference(science_friends)\n",
    "print(not_in_both)"
   ]
  },
  {
   "cell_type": "code",
   "execution_count": 1,
   "id": "e3fa31f3",
   "metadata": {},
   "outputs": [
    {
     "name": "stdout",
     "output_type": "stream",
     "text": [
      "60\n"
     ]
    }
   ],
   "source": [
    "x = 54 + 6\n",
    "print(x)"
   ]
  },
  {
   "cell_type": "code",
   "execution_count": 3,
   "id": "e6ad5b20",
   "metadata": {},
   "outputs": [
    {
     "name": "stdout",
     "output_type": "stream",
     "text": [
      "77\n"
     ]
    }
   ],
   "source": [
    "p = 70 + 7\n",
    "print(p)"
   ]
  },
  {
   "cell_type": "code",
   "execution_count": 4,
   "id": "7cba3293",
   "metadata": {},
   "outputs": [
    {
     "name": "stdout",
     "output_type": "stream",
     "text": [
      "27\n"
     ]
    }
   ],
   "source": [
    "x = 21 + 6\n",
    "print(x)"
   ]
  },
  {
   "cell_type": "code",
   "execution_count": 2,
   "id": "60c228db",
   "metadata": {},
   "outputs": [
    {
     "name": "stdout",
     "output_type": "stream",
     "text": [
      "469\n"
     ]
    }
   ],
   "source": [
    "p = 67 * 7\n",
    "print(p)"
   ]
  },
  {
   "cell_type": "markdown",
   "id": "1d992edc",
   "metadata": {},
   "source": [
    "Dictionary \n"
   ]
  },
  {
   "cell_type": "code",
   "execution_count": 4,
   "id": "9bbea549",
   "metadata": {},
   "outputs": [
    {
     "name": "stdout",
     "output_type": "stream",
     "text": [
      "rolf smith\n"
     ]
    }
   ],
   "source": [
    "Friends = (\n",
    "    {\"name\": \"rolf smith\", \"age\": 24},\n",
    "    {\"name\": \"Adam Wool\", \"age\": 30},\n",
    "    {\"name\": \"Anne Pun\", \"age\": 27}\n",
    "\n",
    ")\n",
    "print(Friends[0][\"name\"])"
   ]
  },
  {
   "cell_type": "code",
   "execution_count": 5,
   "id": "6c86eb76",
   "metadata": {},
   "outputs": [
    {
     "name": "stdout",
     "output_type": "stream",
     "text": [
      "{'rolf': 24, 'Adam': 30, 'Anne': 27}\n"
     ]
    }
   ],
   "source": [
    "friends = [(\"rolf\", 24), (\"Adam\", 30), (\"Anne\", 27)]\n",
    "friends_age = dict(friends)\n",
    "print(friends_age)"
   ]
  },
  {
   "cell_type": "code",
   "execution_count": 4,
   "id": "515e4252",
   "metadata": {},
   "outputs": [
    {
     "data": {
      "text/plain": [
       "6"
      ]
     },
     "execution_count": 4,
     "metadata": {},
     "output_type": "execute_result"
    }
   ],
   "source": [
    "my_friends = {\n",
    "    \"Jose\": {\"last_seen\": 6},\n",
    "    \"Rolf\": {\"surname\": \"Smith\"},\n",
    "    \"Anne\": {6}\n",
    "}\n",
    "my_friends[\"Jose\"]\n",
    "my_friends[\"Jose\"][\"last_seen\"]"
   ]
  },
  {
   "cell_type": "code",
   "execution_count": 1,
   "id": "55898f56",
   "metadata": {},
   "outputs": [
    {
     "name": "stdout",
     "output_type": "stream",
     "text": [
      "(23, 34, 46, 87)\n",
      "23\n"
     ]
    }
   ],
   "source": [
    "players = [\n",
    "    {\n",
    "        \"name\": \"Rolf\",\n",
    "        \"numbers\": (23, 34, 46, 87),\n",
    "    },\n",
    "    {\n",
    "        \"name\": \"John\",\n",
    "        \"numbers\": (45, 45 , 67)\n",
    "    }  \n",
    "]\n",
    "print(players[0][\"numbers\"])\n",
    "print(players[0][\"numbers\"][0])"
   ]
  },
  {
   "cell_type": "code",
   "execution_count": 1,
   "id": "14d09c04",
   "metadata": {},
   "outputs": [
    {
     "name": "stdout",
     "output_type": "stream",
     "text": [
      "86.5\n"
     ]
    }
   ],
   "source": [
    "grades = [80, 75, 90, 101]\n",
    "total = sum(grades)\n",
    "length = len(grades)\n",
    "\n",
    "average = total / length \n",
    "print(average)"
   ]
  },
  {
   "cell_type": "code",
   "execution_count": 2,
   "id": "0d7f93ce",
   "metadata": {},
   "outputs": [
    {
     "name": "stdout",
     "output_type": "stream",
     "text": [
      "My friends are Folf, Anne, Charlie.\n"
     ]
    }
   ],
   "source": [
    "friends = [\"Folf\", \"Anne\", \"Charlie\"]\n",
    "comma_separated = \", \".join(friends)\n",
    "print(f\"My friends are {comma_separated}.\")"
   ]
  },
  {
   "cell_type": "code",
   "execution_count": null,
   "id": "63350c22",
   "metadata": {},
   "outputs": [],
   "source": []
  }
 ],
 "metadata": {
  "kernelspec": {
   "display_name": "Python 3 (ipykernel)",
   "language": "python",
   "name": "python3"
  },
  "language_info": {
   "codemirror_mode": {
    "name": "ipython",
    "version": 3
   },
   "file_extension": ".py",
   "mimetype": "text/x-python",
   "name": "python",
   "nbconvert_exporter": "python",
   "pygments_lexer": "ipython3",
   "version": "3.10.5"
  }
 },
 "nbformat": 4,
 "nbformat_minor": 5
}
